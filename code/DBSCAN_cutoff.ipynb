{
 "cells": [
  {
   "cell_type": "code",
   "execution_count": 3,
   "id": "b7b0af82",
   "metadata": {},
   "outputs": [],
   "source": [
    "import numpy as np\n",
    "import pandas as pd\n",
    "from sklearn.cluster import DBSCAN"
   ]
  },
  {
   "cell_type": "code",
   "execution_count": 4,
   "id": "d456c564",
   "metadata": {},
   "outputs": [],
   "source": [
    "HRD_pan_cancer = pd.read_csv('../../HRD_score/data/HRD_scores_pan_cancer_annotated_v2.csv', sep=',', header = 0)\n",
    "primary = HRD_pan_cancer[HRD_pan_cancer['Type'] == 'Primary']"
   ]
  },
  {
   "cell_type": "code",
   "execution_count": 39,
   "id": "ffc5d3c8",
   "metadata": {},
   "outputs": [],
   "source": [
    "def runDBSCAN_n2(data):\n",
    "    \n",
    "    #data_hrd = data['HRD_sum'].to_numpy().reshape(-1, 1)\n",
    "    data_hrd = data[['TAI', 'LST', 'LOH']].to_numpy()\n",
    "    np.random.seed(42)\n",
    "    dbscan = DBSCAN(eps=2, min_samples=3)\n",
    "\n",
    "    \n",
    "    labels = dbscan.fit_predict(data_hrd)\n",
    "\n",
    "    # Get the number of clusters found\n",
    "    n_clusters = len(set(labels)) - (1 if -1 in labels else 0)\n",
    "    \n",
    "\n",
    "    min_values = [np.min(data_hrd[labels == label]) for label in np.unique(labels)]\n",
    "    # Print the results\n",
    "    print(\"Data:\", data_hrd.flatten())\n",
    "    print(\"Labels:\", labels)\n",
    "    print(\"Number of clusters:\", n_clusters)\n",
    "    print(min_values)"
   ]
  },
  {
   "cell_type": "code",
   "execution_count": 43,
   "id": "ca607080",
   "metadata": {},
   "outputs": [],
   "source": [
    "luad = primary[primary['Project ID'] == 'TCGA-SARC']\n",
    "#runDBSCAN_n2(luad)"
   ]
  },
  {
   "cell_type": "code",
   "execution_count": 46,
   "id": "74657ff7",
   "metadata": {},
   "outputs": [
    {
     "name": "stdout",
     "output_type": "stream",
     "text": [
      "Cluster labels: [0 0 0 0 0 0 0 1 0 0 0 0 1 0 1 1 1 0 1 0 0 0 0 0 1 0 1 0 0 0 0 0 0 1 0 1 1\n",
      " 0 1 0 0 0 0 0 0 1 0 0 1 1 0 1 0 1 0 0 0 0 1 0 0 1 1 1 0 0 1 0 0 1 0 0 0 0\n",
      " 0 1 1 0 1 1 0 1 0 1 0 0 0 0 0 0 0 0 1 0 1 0 0 0 0 0 0 0 0 1 0 0 1 1 1 0 0\n",
      " 0 1 0 0 0 0 1 0 0 0 0 0 0 1 0 1 0 0 0 1 1 1 0 0 0 0 0 1 1 0 1 1 0 0 0 1 0\n",
      " 1 0 1 0 0 0 1 0 1 1 0 0 0 0 0 0 0 0 0 0 0 0 1 0 1 1 1 0 1 0 1 0 1 1 1 0 0\n",
      " 1 0 0 1 0 0 1 1 0 0 0 1 0 1 0 0 0 1 1 0 1 1 0 0 0 1 1 1 0 0 0 0 0 0 0 1 0\n",
      " 0 0 1 1 0 1 1 0 0 1 0 0 0 0 1 0 0 1 0 1 1 0 1]\n",
      "Cluster centers: [[34.92380952]\n",
      " [11.93684211]]\n",
      "[24, 0]\n"
     ]
    }
   ],
   "source": [
    "from sklearn.cluster import MeanShift\n",
    "\n",
    "# Generate random 1D data\n",
    "np.random.seed(0)\n",
    "data = luad['HRD_sum'].to_numpy().reshape(-1, 1)\n",
    "\n",
    "# Reshape the data to a 2D array\n",
    "\n",
    "\n",
    "# Create and fit the MeanShift model\n",
    "\n",
    "ms = MeanShift()\n",
    "ms.fit(data)\n",
    "\n",
    "# Get the cluster labels and cluster centers\n",
    "labels = ms.labels_\n",
    "centers = ms.cluster_centers_\n",
    "\n",
    "max_number = int(max(list(luad['HRD_sum'])))\n",
    "numbers_vector = np.arange(max_number + 1).reshape(-1, 1)\n",
    "labels_numbers = ms.predict(numbers_vector).reshape(-1, 1)\n",
    "\n",
    "# Find the minimum value for each label\n",
    "min_values = [np.min(numbers_vector[labels_numbers == label]) for label in np.unique(labels_numbers)]\n",
    "\n",
    "\n",
    "# Print the cluster labels and centers\n",
    "print(\"Cluster labels:\", labels)\n",
    "print(\"Cluster centers:\", centers)\n",
    "print(min_values)"
   ]
  },
  {
   "cell_type": "code",
   "execution_count": 48,
   "id": "33bc71fb",
   "metadata": {},
   "outputs": [
    {
     "data": {
      "image/png": "[encoded data removed]",
      "text/plain": [
       "<Figure size 432x288 with 1 Axes>"
      ]
     },
     "metadata": {
      "needs_background": "light"
     },
     "output_type": "display_data"
    }
   ],
   "source": [
    "from sklearn.neighbors import KernelDensity\n",
    "import matplotlib.pyplot as plt\n",
    "# Generate random 1D data\n",
    "np.random.seed(0)\n",
    "data = luad['HRD_sum'].to_numpy().reshape(-1, 1)\n",
    "\n",
    "\n",
    "\n",
    "# Create and fit the KernelDensity model\n",
    "bandwidth = 1.0  # The bandwidth parameter controls the width of the kernel\n",
    "kde = KernelDensity(bandwidth=bandwidth)\n",
    "kde.fit(data)\n",
    "\n",
    "# Generate new data points from the fitted KDE model\n",
    "new_data = np.linspace(-3, 3, 100).reshape(-1, 1)\n",
    "\n",
    "# Compute the log density estimate for new data\n",
    "log_dens = kde.score_samples(new_data)\n",
    "\n",
    "# Plot the data and density estimate\n",
    "plt.scatter(data, np.zeros_like(data), label='Original Data', color='blue', alpha=0.5)\n",
    "plt.plot(new_data, np.exp(log_dens), label='Density Estimate', color='red')\n",
    "plt.legend()\n",
    "plt.show()"
   ]
  },
  {
   "cell_type": "code",
   "execution_count": 54,
   "id": "7c4cd3d6",
   "metadata": {},
   "outputs": [
    {
     "name": "stdout",
     "output_type": "stream",
     "text": [
      "Silhouette Score: 0.47262312650235344\n",
      "Data: [23. 20. 13. 33. 18. 16.  7. 10. 13. 15.  7. 11. 29. 28. 13. 12. 10. 15.\n",
      " 26. 15. 14.  5.  1.  4. 23. 12. 20. 26. 20.  9. 18. 22.  8. 29. 23. 10.\n",
      "  4.  4.  5. 18. 12. 10.  5.  2.  6.  2.  4.  0.  0.  0.  0. 33. 21. 13.\n",
      " 11.  2.  7. 26. 12.  5. 11.  4. 10. 22. 11. 16. 22. 17. 11. 25. 12.  7.\n",
      "  6.  2.  3. 23. 13.  9.  1.  2.  4. 21. 13.  4. 16. 10.  8. 18. 10. 17.\n",
      " 18.  9. 14. 15. 13. 11. 20. 13. 11.  0.  1.  0. 18.  9. 12.  7.  5.  9.\n",
      "  7.  5.  7. 19.  8.  7.  8.  5.  8. 10.  5.  9. 12. 12. 11. 23. 14.  8.\n",
      " 19.  4. 16. 17. 11. 10. 12.  8. 10.  0.  0.  0. 24. 26.  4. 15. 14. 14.\n",
      "  5.  4.  1.  1.  2.  0. 11.  7.  7.  3.  0.  4. 13.  3.  8.  1.  0.  2.\n",
      " 13. 18. 14. 15. 10. 12. 29. 14. 19. 15.  8. 13.  0.  0.  0. 20. 12.  1.\n",
      " 22.  7. 13.  0.  1.  0.  2.  1.  2.  5. 12.  1. 14. 11.  4. 13.  5.  7.\n",
      " 14.  3.  6. 14.  3. 12. 24.  9. 22.  4.  1.  2. 23. 27. 12. 30. 19. 30.\n",
      " 12. 16. 14. 18. 13.  3. 33. 30. 17. 11.  4.  7.  0.  1.  0. 16. 12.  1.\n",
      "  0.  0.  0.  7.  3. 12. 30. 17. 28.  6.  1.  3. 33. 17. 20.  3.  1.  1.\n",
      " 32. 23. 30. 26. 19. 27. 29. 19. 12. 29. 26.  8. 10. 12.  6. 26. 12.  2.\n",
      " 28. 14. 26. 25. 16. 14.  7.  4.  6. 27. 28. 21.  8.  2.  4. 14. 11.  5.\n",
      " 29. 19. 16. 25. 13. 19. 16. 18. 10. 15.  6.  8. 23. 13. 17. 35. 29. 21.\n",
      " 18. 13. 14.  4.  8.  7. 27. 15. 11. 14.  7. 12.  0.  0.  0.  7.  4.  6.\n",
      "  0.  0.  0. 15.  8. 11. 18. 29. 15. 11. 10. 18.  2.  1.  1. 12.  5. 10.\n",
      " 19. 16.  8. 22.  9. 14. 21. 24. 12.  1.  3.  1. 17. 14.  8. 26. 15.  3.\n",
      " 23. 11. 13. 18. 14.  7. 17. 16. 16. 13.  9.  7.  4.  5.  4. 27. 19. 12.\n",
      "  6.  5.  3. 18.  8. 10. 23. 10.  1. 25.  5. 11.  0.  0.  0. 16.  3.  0.\n",
      "  0.  4.  2. 24.  7.  7. 12.  9.  3. 29. 15. 14. 16.  6.  7. 29.  9. 23.\n",
      "  6.  4.  9.  2.  1.  2. 35. 21.  6.  2.  0.  2.  0.  2.  3. 19. 13.  7.\n",
      " 11. 10.  3. 18. 15.  7. 10.  5.  8. 22. 13. 29.  4.  5.  8. 22. 14. 11.\n",
      "  6.  6.  6. 21. 14.  6. 18. 10.  2. 25. 17.  8.  6. 10.  6. 24. 12. 14.\n",
      "  0.  0.  0. 10.  4.  8. 21. 23.  6. 29. 16. 13. 15. 11. 10. 29. 10. 11.\n",
      " 24.  9.  7. 16. 16.  7. 24. 12. 17. 31. 18. 12. 15. 15. 15. 17.  7. 11.\n",
      " 17. 12.  7. 28. 20. 11.  0.  0.  0. 17. 10.  2.  3.  0.  1.  2.  0.  2.\n",
      " 10.  5.  6. 18.  5. 10. 11.  7.  4. 29. 14. 10.  6.  8.  6. 18. 20.  6.\n",
      "  0.  2.  0.  0.  0.  0.  1.  0.  0. 22. 12. 16. 24. 21.  9.  9.  6.  8.\n",
      " 15. 14. 11. 10.  7. 12.  8.  3.  2. 23. 17.  5. 13.  9. 11.  6.  6.  5.\n",
      "  0.  1.  0. 26. 21. 12. 33. 14. 13. 23. 15. 20.  4.  1.  0. 34. 16.  6.\n",
      "  0.  0.  0. 11. 11. 10. 25. 15. 15. 20.  8.  3.  7.  4.  8.  5.  4.  4.\n",
      " 30. 24.  8.  4.  3.  4.  7.  7.  2. 19. 10.  4. 20. 17. 25. 24. 11. 14.\n",
      "  1.  0.  0.  8.  2.  7.  5.  8.  6. 10.  7.  7. 20. 19. 22. 20. 13. 14.\n",
      " 31.  5.  5. 29. 12. 13. 18. 21.  7. 12. 12. 14.  1.  0.  2. 26. 14.  8.\n",
      " 19.  8.  3.  7.  9. 15.  7.  2. 14.  0.  0.  0. 27. 15. 10.  1.  0.  0.\n",
      "  3.  2.  3. 12.  4.  9. 15. 16. 19.  1.  0.  0. 36. 23. 11. 20. 21. 15.\n",
      " 24. 16.  8. 28. 29. 25. 12.  7.  4. 16. 10.  9. 10.  8.  7.  5.  4.  2.\n",
      " 26. 23. 10.  4.  5.  5.  5.  1.  5. 28. 21. 11. 10.  7.  6.]\n",
      "Labels: [0 0 0 0 0 0 0 1 0 0 0 0 1 0 1 1 1 0 1 0 1 0 0 0 1 0 1 0 0 0 0 0 0 1 0 1 1\n",
      " 0 1 1 0 0 0 0 0 1 0 0 1 1 1 1 1 1 0 0 0 0 1 0 0 1 1 1 1 1 1 1 0 1 0 0 0 0\n",
      " 0 1 1 0 1 1 0 1 0 1 0 0 0 0 1 0 0 0 1 0 1 1 0 0 0 1 0 0 0 1 0 0 1 1 1 0 0\n",
      " 0 1 1 0 0 0 1 0 0 0 0 0 1 1 0 1 0 0 0 1 1 1 0 1 0 1 0 1 1 0 1 1 0 1 0 1 0\n",
      " 1 0 1 0 0 0 1 0 1 1 0 0 0 0 0 0 0 0 0 0 0 0 1 0 1 1 1 0 1 0 1 0 1 1 1 0 0\n",
      " 1 0 0 1 0 0 1 1 0 0 0 1 0 1 0 0 0 1 1 0 1 1 0 0 0 1 1 1 1 0 0 0 0 0 0 1 0\n",
      " 0 0 1 1 0 1 1 1 0 1 0 0 0 0 1 0 1 1 0 1 1 0 1]\n",
      "Minimum value for each label: [1.0, 0.0]\n"
     ]
    }
   ],
   "source": [
    "from sklearn.cluster import AgglomerativeClustering\n",
    "from sklearn.metrics import silhouette_score\n",
    "# Generate some random 1D data\n",
    "#data = luad['HRD_sum'].to_numpy().reshape(-1, 1)\n",
    "data = luad[['TAI', 'LST', 'LOH']].to_numpy()\n",
    "# Create AgglomerativeClustering object\n",
    "agg_clustering = AgglomerativeClustering(n_clusters=2)\n",
    "\n",
    "# Fit the data\n",
    "labels = agg_clustering.fit_predict(data)\n",
    "\n",
    "min_values = []\n",
    "for label in set(labels):\n",
    "    cluster_data = data[labels == label]\n",
    "    min_value = np.min(cluster_data)\n",
    "    min_values.append(min_value)\n",
    "\n",
    "silhouette_avg = silhouette_score(data, labels)\n",
    "\n",
    "# Print the Silhouette Score\n",
    "print(\"Silhouette Score:\", silhouette_avg)\n",
    "    \n",
    "# Print the results\n",
    "print(\"Data:\", data.flatten())\n",
    "print(\"Labels:\", labels)\n",
    "print(\"Minimum value for each label:\", min_values)"
   ]
  }
 ],
 "metadata": {
  "kernelspec": {
   "display_name": "Python 3 (ipykernel)",
   "language": "python",
   "name": "python3"
  },
  "language_info": {
   "codemirror_mode": {
    "name": "ipython",
    "version": 3
   },
   "file_extension": ".py",
   "mimetype": "text/x-python",
   "name": "python",
   "nbconvert_exporter": "python",
   "pygments_lexer": "ipython3",
   "version": "3.9.12"
  }
 },
 "nbformat": 4,
 "nbformat_minor": 5
}
